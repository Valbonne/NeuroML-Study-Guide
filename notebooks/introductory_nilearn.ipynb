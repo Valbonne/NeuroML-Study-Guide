{
 "cells": [
  {
   "cell_type": "markdown",
   "metadata": {},
   "source": [
    "# Nilearn\n",
    "\n",
    "If you're working on NeuroImaging data, you should check another Python library, **Nilearn**, that is design for  fast and easy statistical learning on NeuroImaging data. It leverages the scikit-learn Python toolbox for multivariate statistics with applications such as predictive modeling, classification, decoding, or connectivity analysis. Use their [website](http://nilearn.github.io/) to find out more."
   ]
  },
  {
   "cell_type": "markdown",
   "metadata": {},
   "source": [
    "As an example of how to use Nilearn, we will use the Haxby 2001 study on a face vs cat discrimination task in a mask of the ventral stream. This part is based on a [Nilearn tutorial](https://nilearn.github.io/auto_examples/plot_decoding_tutorial.html).\n",
    "\n",
    "**Note** that first time you fetch the data, it can take a few minutes."
   ]
  },
  {
   "cell_type": "markdown",
   "metadata": {},
   "source": [
    "## Downloading data"
   ]
  },
  {
   "cell_type": "code",
   "execution_count": 1,
   "metadata": {},
   "outputs": [],
   "source": [
    "from nilearn import datasets\n",
    "\n",
    "# By default 2nd subject will be fetched\n",
    "haxby_dataset = datasets.fetch_haxby()"
   ]
  },
  {
   "cell_type": "markdown",
   "metadata": {},
   "source": [
    "We can access anatomical, functional and mask data. And in addition we have true labels."
   ]
  },
  {
   "cell_type": "code",
   "execution_count": 2,
   "metadata": {},
   "outputs": [],
   "source": [
    "func_file = haxby_dataset.func[0]\n",
    "mask_file = haxby_dataset.mask_vt[0]\n",
    "anat_file = haxby_dataset.anat[0]\n",
    "labels_file = haxby_dataset.session_target[0]"
   ]
  },
  {
   "cell_type": "markdown",
   "metadata": {},
   "source": [
    "let's get some info about ``bold`` file:"
   ]
  },
  {
   "cell_type": "code",
   "execution_count": 3,
   "metadata": {},
   "outputs": [
    {
     "name": "stdout",
     "output_type": "stream",
     "text": [
      "/home/neuro/nilearn_data/haxby2001/subj2/bold.nii.gz int16 [ 40,  64,  64, 1452] 3.50x3.75x3.75x2.50   sform\r\n",
      "\r\n"
     ]
    }
   ],
   "source": [
    "!nib-ls $func_file"
   ]
  },
  {
   "cell_type": "markdown",
   "metadata": {},
   "source": [
    "## Convert the fMRI volume’s to a data matrix using masks"
   ]
  },
  {
   "cell_type": "markdown",
   "metadata": {},
   "source": [
    "We need our functional data in a 2D, sample-by-voxel matrix. To get that, we'll select a set of voxels in Ventral Temporal cortex defined by mask from the Haxby study:"
   ]
  },
  {
   "cell_type": "code",
   "execution_count": 4,
   "metadata": {},
   "outputs": [
    {
     "name": "stderr",
     "output_type": "stream",
     "text": [
      "/opt/conda/envs/neuro/lib/python3.6/site-packages/matplotlib/__init__.py:1405: UserWarning: \n",
      "This call to matplotlib.use() has no effect because the backend has already\n",
      "been chosen; matplotlib.use() must be called *before* pylab, matplotlib.pyplot,\n",
      "or matplotlib.backends is imported for the first time.\n",
      "\n",
      "  warnings.warn(_use_error_msg)\n"
     ]
    },
    {
     "data": {
      "text/plain": [
       "<nilearn.plotting.displays.OrthoSlicer at 0x7f5447097128>"
      ]
     },
     "execution_count": 4,
     "metadata": {},
     "output_type": "execute_result"
    },
    {
     "data": {
      "image/png": "iVBORw0KGgoAAAANSUhEUgAAAhUAAADeCAYAAACKVPIgAAAABHNCSVQICAgIfAhkiAAAAAlwSFlz\nAAALEgAACxIB0t1+/AAAIABJREFUeJzsvVtvnFl23v/U+cgii2TxIEpsSa1WK9PtnhlMnHgcww4Q\n5MIwDORz5MrwnS+C+APkIt8ggW99kxsjzkWAIAnGbqdn7HRPn9RqjQ6USIqHIlknFlmHXPD/23ze\nraJa7a5O/NfUBgiSVe+7331Ye61nPWvt/aYkjTUrszIrszIrszIrs/IdS/r/dQNmZVZmZVZmZVZm\n5c0oM1AxK7MyK7MyK7MyK1MpM1AxK7MyK7MyK7MyK1MpM1AxK7MyK7MyK7MyK1MpM1AxK7MyK7My\nK7MyK1MpM1AxK7MyK7MyK7MyK1MpM1AxK7MyK7MyK7MyK1MpM1AxK7MyK7MyK7MyK1MpM1AxK7My\nK7MyK7MyK1MpM1AxK7MyK7MyK7MyK1MpM1BxRUmlUv9X60ulUolrJl3PNXz3qmsmXX9V3VfV87pl\n0jO+S33fx/3/L8t3aftV9/596nzVPMUy8033vur5k+Tz28jH6/Ttdfpy1T3f9lnfpkyrvv8/y/us\n/HqXXxtQ8TpK8KrPJyncVxniVxntSYotnU5rPH75FSzxfePx+Buvk3TlNVw3Ho8T93C9t9+veVX/\nufaqNr+qfBtwM6lP32d5XcP2OoWxfJX8XGXs4n5znc/Z6xjXq+be6/smOfXvJvXJv4uf9SqZjH++\nqV+vU1411pP6+k1telVb47onPTNu26va6/V8U13fVPcMnMzK/+2S0q/BC8WuMqCxcuH71/ks/v4q\nYODPjK+5ql5X2P7/JAMTfzcJDMT3vUrZ/33HY5ISzGQyGg6HL7VzUl/idjuAetV937W8jmzEbZ/U\n56vqfp16/LtJf8f1+f/fZkxeZfDi8Z005nGb4rGI23PVnLIOJgHlSWA1vpcyGo0mGtH4c7+fNnLN\nVWvQvxuNRhO/n/S81wEV8ZjFn8XP98+97vjab7pvVmbl/0b5tQEVLP5Jxj9WoOl0OlzvCjKTyUxU\nMF7HN30XKyMMr5Q0wrEipA1x+9Pp9EttihU3So/rstnsS/dkMhkNBoPE/d5v2hU/51WGiDppC/X4\nOHofr1KS3lfG6vsoV/VvkqGaBN6uMnL+txuzSdf5PCCHXDupDXEdPs4uxxTmFdl+Fbjk2njuJwFZ\n5nQSuOBel0mfx1cBOz6Lx8Lv9fZdBeT8u9cF4r4GHNT4HDrI8fGlTfG1V4HpSbrD646dEdrKD+N5\n1dh7P76PEsu5F5fJbDarwWCgTCYjSUEHulz4XHMf3xcKBfX7/XBvPp9/SW+l02mdnZ2pUCjo/Pw8\ntGkwGCibzWo4HCqfz2s0GmkwGCTWby6XC20bj8fhfp5Lmyi0YTgchnZSisWiJKnf7yf6yN/ICH12\n+8Q4cT1tZy1zrduLwWCgXC6n0WgU