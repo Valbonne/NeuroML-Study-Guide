{
 "cells": [
  {
   "cell_type": "markdown",
   "metadata": {},
   "source": [
    "# Nilearn\n",
    "\n",
    "If you're working on NeuroImaging data, you should check another Python library, **Nilearn**, that is design for  fast and easy statistical learning on NeuroImaging data. It leverages the scikit-learn Python toolbox for multivariate statistics with applications such as predictive modeling, classification, decoding, or connectivity analysis. Use their [website](http://nilearn.github.io/) to find out more."
   ]
  },
  {
   "cell_type": "markdown",
   "metadata": {},
   "source": [
    "As an example of how to use Nilearn, we will use the Haxby 2001 study on a face vs cat discrimination task in a mask of the ventral stream. This part is based on a [Nilearn tutorial](https://nilearn.github.io/auto_examples/plot_decoding_tutorial.html).\n",
    "\n",
    "**Note** that first time you fetch the data, it can take a few minutes."
   ]
  },
  {
   "cell_type": "markdown",
   "metadata": {},
   "source": [
    "## Downloading data"
   ]
  },
  {
   "cell_type": "code",
   "execution_count": 1,
   "metadata": {},
   "outputs": [],
   "source": [
    "from nilearn import datasets\n",
    "\n",
    "# By default 2nd subject will be fetched\n",
    "haxby_dataset = datasets.fetch_haxby()"
   ]
  },
  {
   "cell_type": "markdown",
   "metadata": {},
   "source": [
    "We can access anatomical, functional and mask data. And in addition we have true labels."
   ]
  },
  {
   "cell_type": "code",
   "execution_count": 2,
   "metadata": {},
   "outputs": [],
   "source": [
    "func_file = haxby_dataset.func[0]\n",
    "mask_file = haxby_dataset.mask_vt[0]\n",
    "anat_file = haxby_dataset.anat[0]\n",
    "labels_file = haxby_dataset.session_target[0]"
   ]
  },
  {
   "cell_type": "markdown",
   "metadata": {},
   "source": [
    "let's get some info about ``bold`` file:"
   ]
  },
  {
   "cell_type": "code",
   "execution_count": 3,
   "metadata": {},
   "outputs": [
    {
     "name": "stdout",
     "output_type": "stream",
     "text": [
      "/home/neuro/nilearn_data/haxby2001/subj2/bold.nii.gz int16 [ 40,  64,  64, 1452] 3.50x3.75x3.75x2.50   sform\r\n",
      "\r\n"
     ]
    }
   ],
   "source": [
    "!nib-ls $func_file"
   ]
  },
  {
   "cell_type": "markdown",
   "metadata": {},
   "source": [
    "## Convert the fMRI volume’s to a data matrix using masks"
   ]
  },
  {
   "cell_type": "markdown",
   "metadata": {},
   "source": [
    "We need our functional data in a 2D, sample-by-voxel matrix. To get that, we'll select a set of voxels in Ventral Temporal cortex defined by mask from the Haxby study:"
   ]
  },
  {
   "cell_type": "code",
   "execution_count": 4,
   "metadata": {},
   "outputs": [
    {
     "name": "stderr",
     "output_type": "stream",
     "text": [
      "/opt/conda/envs/neuro/lib/python3.6/site-packages/matplotlib/__init__.py:1405: UserWarning: \n",
      "This call to matplotlib.use() has no effect because the backend has already\n",
      "been chosen; matplotlib.use() must be called *before* pylab, matplotlib.pyplot,\n",
      "or matplotlib.backends is imported for the first time.\n",
      "\n",
      "  warnings.warn(_use_error_msg)\n"
     ]
    },
    {
     "data": {
      "text/plain": [
       "<nilearn.plotting.displays.OrthoSlicer at 0x7f5447097128>"
      ]
     },
     "execution_count": 4,
     "metadata": {},
     "output_type": "execute_result"
    },
    {
     "data": {
      "image/png": "iVBORw0KGgoAAAANSUhEUgAAAhUAAADeCAYAAACKVPIgAAAABHNCSVQICAgIfAhkiAAAAAlwSFlz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\nXDjd4LCAqROEOxwOVSqVVC6X9fbbb6tYLCqX