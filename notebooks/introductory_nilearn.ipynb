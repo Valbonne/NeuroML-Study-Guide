{
 "cells": [
  {
   "cell_type": "markdown",
   "metadata": {},
   "source": [
    "# Nilearn\n",
    "\n",
    "If you're working on NeuroImaging data, you should check another Python library, **Nilearn**, that is design for  fast and easy statistical learning on NeuroImaging data. It leverages the scikit-learn Python toolbox for multivariate statistics with applications such as predictive modeling, classification, decoding, or connectivity analysis. Use their [website](http://nilearn.github.io/) to find out more."
   ]
  },
  {
   "cell_type": "markdown",
   "metadata": {},
   "source": [
    "As an example of how to use Nilearn, we will use the Haxby 2001 study on a face vs cat discrimination task in a mask of the ventral stream. This part is based on a [Nilearn tutorial](https://nilearn.github.io/auto_examples/plot_decoding_tutorial.html).\n",
    "\n",
    "**Note** that first time you fetch the data, it can take a few minutes."
   ]
  },
  {
   "cell_type": "markdown",
   "metadata": {},
   "source": [
    "## Downloading data"
   ]
  },
  {
   "cell_type": "code",
   "execution_count": 1,
   "metadata": {},
   "outputs": [],
   "source": [
    "from nilearn import datasets\n",
    "\n",
    "# By default 2nd subject will be fetched\n",
    "haxby_dataset = datasets.fetch_haxby()"
   ]
  },
  {
   "cell_type": "markdown",
   "metadata": {},
   "source": [
    "We can access anatomical, functional and mask data. And in addition we have true labels."
   ]
  },
  {
   "cell_type": "code",
   "execution_count": 2,
   "metadata": {},
   "outputs": [],
   "source": [
    "func_file = haxby_dataset.func[0]\n",
    "mask_file = haxby_dataset.mask_vt[0]\n",
    "anat_file = haxby_dataset.anat[0]\n",
    "labels_file = haxby_dataset.session_target[0]"
   ]
  },
  {
   "cell_type": "markdown",
   "metadata": {},
   "source": [
    "let's get some info about ``bold`` file:"
   ]
  },
  {
   "cell_type": "code",
   "execution_count": 3,
   "metadata": {},
   "outputs": [
    {
     "name": "stdout",
     "output_type": "stream",
     "text": [
      "/home/neuro/nilearn_data/haxby2001/subj2/bold.nii.gz int16 [ 40,  64,  64, 1452] 3.50x3.75x3.75x2.50   sform\r\n",
      "\r\n"
     ]
    }
   ],
   "source": [
    "!nib-ls $func_file"
   ]
  },
  {
   "cell_type": "markdown",
   "metadata": {},
   "source": [
    "## Convert the fMRI volume’s to a data matrix using masks"
   ]
  },
  {
   "cell_type": "markdown",
   "metadata": {},
   "source": [
    "We need our functional data in a 2D, sample-by-voxel matrix. To get that, we'll select a set of voxels in Ventral Temporal cortex defined by mask from the Haxby study:"
   ]
  },
  {
   "cell_type": "code",
   "execution_count": 4,
   "metadata": {},
   "outputs": [
    {
     "name": "stderr",
     "output_type": "stream",
     "text": [
      "/opt/conda/envs/neuro/lib/python3.6/site-packages/matplotlib/__init__.py:1405: UserWarning: \n",
      "This call to matplotlib.use() has no effect because the backend has already\n",
      "been chosen; matplotlib.use() must be called *before* pylab, matplotlib.pyplot,\n",
      "or matplotlib.backends is imported for the first time.\n",
      "\n",
      "  warnings.warn(_use_error_msg)\n"
     ]
    },
    {
     "data": {
      "text/plain": [
       "<nilearn.plotting.displays.OrthoSlicer at 0x7f5447097128>"
      ]
     },
     "execution_count": 4,
     "metadata": {},
     "output_type": "execute_result"
    },
    {
     "data": {
      "image/png": "iVBORw0KGgoAAAANSUhEUgAAAhUAAADeCAYAAACKVPIgAAAABHNCSVQICAgIfAhkiAAAAAlwSFlz\nAAALEgAACxIB0t1+/AAAIABJREFUeJzsvVtvnFl23v/U+cgii2TxIEpsSa1WK9PtnhlMnHgcww4Q\n5MIwDORz5MrwnS+C+APkIt8ggW99kxsjzkWAIAnGbqdn7HRPn9RqjQ6USIqHIlknFlmHXPD/23ze\nraJa7a5O/NfUBgiSVe+7331Ye61nPWvt/aYkjTUrszIrszIrszIrs/IdS/r/dQNmZVZmZVZmZVZm\n5c0oM1AxK7MyK7MyK7MyK1MpM1AxK7MyK7MyK7MyK1MpM1AxK7MyK7MyK7MyK1MpM1AxK7MyK7My\nK7MyK1MpM1AxK7MyK7MyK7MyK1MpM1AxK7MyK7MyK7MyK1MpM1AxK7MyK7MyK7MyK1MpM1AxK7My\nK7MyK7MyK1MpM1AxK7MyK7MyK7MyK1MpM1BxRUmlUv9X60ulUolrJl3PNXz3qmsmXX9V3VfV87pl\n0jO+S33fx/3/L8t3aftV9/596nzVPMUy8033vur5k+Tz28jH6/Ttdfpy1T3f9lnfpkyrvv8/y/us\n/HqXXxtQ8TpK8KrPJyncVxniVxntSYotnU5rPH75FSzxfePx+Buvk3TlNVw3Ho8T93C9t9+veVX/\nufaqNr+qfBtwM6lP32d5XcP2OoWxfJX8XGXs4n5znc/Z6xjXq+be6/smOfXvJvXJv4uf9SqZjH++\nqV+vU1411pP6+k1telVb47onPTNu26va6/V8U13fVPcMnMzK/+2S0q/BC8WuMqCxcuH71/ks/v4q\nYODPjK+5ql5X2P7/JAMTfzcJDMT3vUrZ/33HY5ISzGQyGg6HL7VzUl/idjuAetV937W8jmzEbZ/U\n56vqfp16/LtJf8f1+f/fZkxeZfDi8Z005nGb4rGI23PVnLIOJgHlSWA1vpcyGo0mGtH4c7+fNnLN\nVWvQvxuNRhO/n/S81wEV8ZjFn8XP98+97vjab7pvVmbl/0b5tQEVLP5Jxj9WoOl0OlzvCjKTyUxU\nMF7HN30XKyMMr5Q0wrEipA1x+9Pp9EttihU3So/rstnsS/dkMhkNBoPE/d5v2hU/51WGiDppC/X4\nOHofr1KS3lfG6vsoV/VvkqGaBN6uMnL+txuzSdf5PCCHXDupDXEdPs4uxxTmFdl+Fbjk2njuJwFZ\n5nQSuOBel0mfx1cBOz6Lx8Lv9fZdBeT8u9cF4r4GHNT4HDrI8fGlTfG1V4HpSbrD646dEdrKD+N5\n1dh7P76PEsu5F5fJbDarwWCgTCYjSUEHulz4XHMf3xcKBfX7/XBvPp9/SW+l02mdnZ2pUCjo/Pw8\ntGkwGCibzWo4HCqfz2s0GmkwGCTWby6XC20bj8fhfp5Lmyi0YTgchnZSisWiJKnf7yf6yN/ICH12\n+8Q4cT1tZy1zrduLwWCgXC6n0WgU+jIcDl/SOfyeZDumUTKS/nTqtf4DKgw4BeXnC9YVigtUJpN5\n6TsmyIUkfoZ/z3Pi61zxx+CB+11ZuoLz+mLA4P2MFUs2m00sPFd0rvC8HVxL/V5vNptN9Cf2Jn2M\nJz3H++rjnkqlQlvdSLgCmVZhHGPjECvGeB4pLhPxdf4bWfL+xDIRj7MrVOqa1M5JwIX6JgHVWFay\n2WxQ5FLS0MXXcp0DxRgYex2xYZaUaM+rgNak8YuvcVn28Y8V6KRxpy8+V/G8+XNox6vYCFf0k9bJ\npDbEsvUqAOUAa9IYxXokZoWmWbLZbJCdeK0Xi8Uw56xlScrlcmEcYkARg6R47mJQNxqNlM1mdX5+\nngAljLfLJWMRgz36kcvlQjuRYcCHr6FMJpOQMV9Xw+FQxWIx9AvQEutFdxpwsrw+rqU+6qDNDrhY\nF4yL15HP5xPr0NdQOp1WNpsN7QAYTaO88TkVbrR9El0pugIaDAYJL9rrcSTpSixesK4Y3Ej4Io+9\nPxBmLDy0w5U7iwYhn6RgvI20wwWbvvB57OkwLqPRKLFQ6Yv3Q1JgJBw8OABwxcC4edu43/sbA53v\nA1X7ePLs2Niw+Gi3L1SfdwdWXpC7wWAQlGWsaOI5Hg6HQVlS4nmiXbFy84K348aG4spwEtC7ytjG\n8+Nt8ufQRwfx9NEVNErV5c77xHi4F+v1OQMXz10MwugXcu11uRy4wXcwzj25XO5KIOrj52vPr2FM\nMITeVjd48e9JbEe8PjGEPg+ZTCYhx9MoGE7vC3NxdnYWns3vVCoVPmcMvd++LhyQ4W0788mYuhPi\nLAWefqxHMLTlcjmAIuosFAqhPmdScrlcWLuu11KpC0eHewuFgs7Ozl4CwMgSz+Zz5hlZipmDTCaj\n8/PzicCedqNXzs/Pw/zmcjnl8/nAsjgYc6aYuifprO9S3nimYjweq1AoJBQSCxkKzJU7i5OJRPB9\n8CchS4QjpqccMTu6pvA/yj+XyymVuqTqHPjEoMY9BP+cPviCjj1R6kUhxQsZgY8Vp3RpqLw+77sD\nLVeijIVfB0Xn6NvniT7HIGVaBRlwLzFWVr7g4tBR7Gm5AnPl4nPLHDF2MRhjbGIv1o2D05oxoIgB\ntHtOzqz4M7gnBjsug8yHK1z/zufbFbPLiQNu1qTLH892j9BlwtsZjzUlBtQxOHIPz+fa55jP3KA5\n+xgDATcKrNXYq2XeJsm3t937S93xnCFLXhyAOXjjfgc30ygeysCAs54cANAHB+npdDoYvVgvu970\nEAB6PNZz6DCe72tGUhgr2pVKpdTv98Ma5JnM72AwCLpmNBqF8EUul9P5+XlC12Efzs/Pg87mPtpQ\nKpUS6zeVSun8/Dw805mX2LbQn+FwqFwuF+bP5S8G4bTdnQUHf7HdcB09jfLGgwom2ZXeJHQWe8Vu\nAOOYrRt3jyXzvV8fK5N4YbtBcEVD273NMcNC/QhYbMT9fr53JRezBT5Ok+i02GuKQyIYTpSaGyxX\nbj7ebiwcPLnxjQ3mNIsbMupGabMQr5IZlIzPkbcVpcFnMSPgf7tyiZ8Ty6UrEZeFSfR3PHfeNkrM\nzMXy6Iqce+Nr4nmZ9HnsvU8CG/Hf3iZ3ANwY+3UxQIj75cbVwbXHud0xcEMwKd/J15E/3734eLwx\nRJPmk+e67Hk7aUcMxH3eXDdMmtdpFQy5r3MMn48D8uPj4WDQ1zzt5L58Ph8+g4FwfQcoPTs7C892\n5swZPwe6rosc4LueLhaLOj8/D2AGAOUhdAf6nr9BcTkZj8c6OzsL7AeyFuc+ACYGg0FgPrgudrCc\nISIfxMG4s1iArvPz89Bml98ZqHjN4rkLvhBdIblR5bPYQ3UD6ovdlRvC/Md//Mf66U9/qr/+678O\nAhCDFn9GbLy5huc6ko9BTUwnx3XESsS91XhhoMx9XFxBokRitsGN8iTPy9kYX8Du4Xid8aKM526a\nxZ8VK4sYFLFg+QwmIDbs9McXsxuzOA/D2xKPuRuSmB6lLa5k43bHY4vc/dEf/ZF++tOf6m/+5m/C\n526U4l07XhwM0jbvg3tB3i+/N/7c14Ab+FjpxUbcr2f8YzmJr4kBkYM+vo/ZqElG3ucgdiy8Dp9D\nxnaScY3HhbGJWSy8Zh8fN1wUlzHPL5hWiXUVsujPRY6cnQUYuJGn+Fy7I+Jt/6M/+iP91m/9lj78\n8MOX2DV3wFgzhUIh1EN+QqFQCP9nMhmdnZ2Fa10nU4cXdyTPz89f0pvxfDgQHo/Hgc1xVhpAQMiD\nv8nRYGycJXagS7sAnM4mMi8wRM5yxJsEplGmG2T7B1iYVE+K9EVA8Qxi6TIm6CVGuaBJFgAeyN27\ndycCAOmSMpT0kpGJgYUDHhfW2GtyYZKSCVq096qkUL5z4XTvHKGnTo9BuuFyJoXvPVwBiuc3z6G9\nPlbu3XyfgII5ZdziRYUCYowHg4Hy+XzCkNIH2stYQaG6AvC5coUZe2pu0KjXGRtXUnzuc+R1xWAO\nj+vdd98N//s8cJ2zYrG3zZy4EbuKdXAA5rQr3yEjHgJxypt7s9lsgjmMPU/mx71FB4neRv52YORU\nPXVxnQN7Dz1RnMr2deZgJAaRzl5yn++KYM4cUDL25+fnCdbLdzV4P8kF8Gt8/X3X4gDUQxWSXpJx\nXzOuW33NcS0gbNLYDodDvfPOOwl5c7BWKpXCGLnhR57Ja2BO8dwLhYKy2ax6vV7C83e5oG1nZ2ca\nj8cqFouqVqs6PT0N4RRYEXQl93hhDhzoejKm50vAtBSLxbDrhb57mENS+N7HmPuQ8zjngzGfply8\n8YmaCH6MGmNvhfKrX/1K/+Jf/IuJdblyTaVSAaVCSyEIfr0bd+kyfofgenjGDbkvLFfcfr/3ke/5\nPwYm3l9voyvouK3OXjh6j8fEwYSDG8az2+2q1Wppe3tb/+E//AdVKpVEHU7veZt80XHdtIsbR/ce\n6ZdTy2RiM+8oDRK+fKHGY+dy5saR/2Ma2A2wy0ZclwNT/5+MdgrK0cGCrwfkEOUWMyDeFh8rB6fx\nd5NAx1X3+WeT6onXRdzfmCXw57thp8RMhlP53md3ShzwOEikHYydA37PsHdjFhvFGGDHsXmUfwz4\npeSuLh8vB53fByB34IeTFTtG7ilLr9avLp/cR59ipy+WXa717aaxDgVgUB/zOYl5lKTT09PQT3S8\nA5TRaBTABMwk4w07gp1ALzIn8dp2B4a+uhPLGiccxHffpF/dGfTx+z6YK8qvBaiIWQr3oPEQXicz\n2pW0lFR+8SKQJodKfBESk3el5zRoTLuRrEO/nHbjeo+nYlxckblCoy0YIPeIAB+eUQ9oQHkglE5n\nOvVI+cM//EPNzc3pRz/6kX784x/rT/7kT145T/zEytaNwrQKz0IxxHF/N2xQpPl8/iUGgDFmHH0M\n+dv75AYgNt4xMwAAiT0m/vbvmduzszOdnZ0lDBzKzT30OASHvDhQmWTsHeR4vxhHN+juVbtxi8Fy\nLH+s2XhnFJ/TdmfaMHRuHLy/GAjGjmuQdZS7y0EMHnwOWXPZbFaFQiGxKwSgQV8ZP7/fwwXMPf1x\nsOSAJQ5ruKy4nouB0/dhRHw3BkYZ4+cO3OusXWcR/J7xeByMtDNT1Wo1zA96SbpkAphHnzu8denS\nwfM1hD1IpS7yGvw8C9roTlq/31e32w35D8yRJ24yjzGwZj5yuVxI5vQ+upPijDi6iPIq/eogyx0e\nP/eCNTut8saDCoorCCYmpqlepw4UgRtv/34Sdc1z3POZRPWxOBDwSdnTMa0oJXdWUA9t88Xiz3El\n4OyC0+0gcw93SAqeOu06OztLABzuj8vu7q7+y3/5L/rRj36U+JxFjVKgP7GwxyBrGsUNi3un/rkb\nFuYFWhaF4wwAn/s4utFk3jB8fn3MZDlr4WA4Zh4cNE6SNcZvkifvY+7MVWzAuIcxcePpa4P7JrFa\nMaiIWTRnUFy+fe5dOVJcHp29cPDj2y69L9wHaHegQd0ONmjLcDgMdDL/O7MRG39kyBOondWK+z+J\nYYjXmTtKkxwNb8O014+PpY8h69kB3+sUZ4EYFwdfsUxgxNGj3W5XkhLgZlKJ15sklcvlICvoIdaY\nzxuAwYG852y4nkR/Uh+fOWAHIHi4y0GMb2XFMbjKVk3Sr8hz7DQwTpPA/nctvxagYpKiic8meJ2C\n5xd7QfEkuTJwr41rEdKYCsWLQuh8wbihiL1S6nfF4qg49rxd8L3ttIvFEJdJijv27F8lpBsbG/r9\n3/99PXjw4KX5IT/FFx3j6Qby+yieje8egZcYmAEWPGzgcXj34OmjK8urQKV7TnzG85kf94Zpr1/v\n3pz0cm6Oj6OzIq5AJyWExeeOULd/dpUhdMDL/74eJxmoGLTEHqzLh48T8kL7YkMdr4nz8/NEzo/3\ndZKxcKaIxDr65mva5cDHIpZnZMSf48+NgRz6y9e964tYJ0mXIZJpFp6PwfVxdXDzul5wfC6L9z92\nnKTL8eb5vqb43sfaxw8DexWAlC4BQL/ff6lv1EW/PZTpuzkIicTr2kO80svgARmYxEy7LHqZpF+d\n7fUx8fZiN6ZV3vhEzViJMDnExmLl/arC9Q4Y3PuMF09MI/v/HqN1uhZl7sqJz907ox7uj5/lBtCB\nji8a/54FFB9C5WPI/Z5D4ePIQnUELEn/6T/9J43HY83Nzem//tf/qn/7b/9tYpxc8BlPTyhydub7\noHDxDNyDdEAXK6Tz8/OEh+rMgi9WB5mMtR9G5fLnBtNp/auKy4Mb0kkMgXvW7vVJSdkgC90/Y55d\nFikuH24kY6WHMvUx8DFyhe7jEntkDr7870kgkJCJy7onEnqbWX8eQomNDWOL18nneKKuU2KD4f3g\nnIP483gOvT8eRkUmY6bUZcXpf+j7eE1Oo/hcucFHdvnsdZ/tBpb